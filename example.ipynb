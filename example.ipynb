{
 "cells": [
  {
   "cell_type": "markdown",
   "metadata": {
    "collapsed": false
   },
   "source": [
    "# Implement a world clock with Flowpipe\n",
    "This is very simple and in the end it is just a one liner in python, but a simple example like makes it easier to demonstrate the idea behind flowpipe."
   ]
  },
  {
   "cell_type": "markdown",
   "metadata": {},
   "source": [
    "Let's import the necessary classes:"
   ]
  },
  {
   "cell_type": "code",
   "execution_count": 1,
   "metadata": {
    "collapsed": true
   },
   "outputs": [],
   "source": [
    "from datetime import datetime\n",
    "from time import time\n",
    "\n",
    "from flowpipe.node import INode\n",
    "from flowpipe.plug import OutputPlug, InputPlug\n",
    "from flowpipe.graph import Graph\n",
    "from flowpipe.engines.python_engine import PythonEngine"
   ]
  },
  {
   "cell_type": "markdown",
   "metadata": {},
   "source": [
    "Then the desired functionality has to be implemented into Nodes.\n",
    "We need two nodes, one to get the current time and one to convert it to a timezone."
   ]
  },
  {
   "cell_type": "code",
   "execution_count": 2,
   "metadata": {
    "collapsed": true
   },
   "outputs": [],
   "source": [
    "class CurrentTime(INode):\n",
    "\n",
    "    def __init__(self, name=None):\n",
    "        super(CurrentTime, self).__init__(name)\n",
    "        OutputPlug('time', self)\n",
    "\n",
    "    def compute(self):\n",
    "        return {'time': time()}"
   ]
  },
  {
   "cell_type": "code",
   "execution_count": 3,
   "metadata": {
    "collapsed": true
   },
   "outputs": [],
   "source": [
    "class ConvertTime(INode):\n",
    "\n",
    "    def __init__(self, name=None, timezone=0):\n",
    "        super(ConvertTime, self).__init__(name)\n",
    "        InputPlug('time', self)\n",
    "        InputPlug('timezone', self, timezone)\n",
    "        OutputPlug('converted_time', self)\n",
    "\n",
    "    def compute(self, time, timezone):\n",
    "        return {'converted_time': [time + timezone * 60 * 60, self.name]}"
   ]
  },
  {
   "cell_type": "markdown",
   "metadata": {},
   "source": [
    "The World Clock will receive the times and locations and display it."
   ]
  },
  {
   "cell_type": "code",
   "execution_count": 4,
   "metadata": {
    "collapsed": true
   },
   "outputs": [],
   "source": [
    "class WorldClock(INode):\n",
    "\n",
    "    def __init__(self, name=None):\n",
    "        super(WorldClock, self).__init__(name)\n",
    "        InputPlug('time1', self)\n",
    "        InputPlug('time2', self)\n",
    "        InputPlug('time3', self)\n",
    "\n",
    "    def compute(self, time1, time2, time3):\n",
    "        print('-- World Clock -------------------')\n",
    "        print('It is now {0} in {1}'.format(\n",
    "            datetime.fromtimestamp(time1[0]).strftime(\"%H:%M\"), time1[1]))\n",
    "        print('It is now {0} in {1}'.format(\n",
    "            datetime.fromtimestamp(time2[0]).strftime(\"%H:%M\"), time2[1]))\n",
    "        print('It is now {0} in {1}'.format(\n",
    "            datetime.fromtimestamp(time3[0]).strftime(\"%H:%M\"), time3[1]))\n",
    "        print('----------------------------------')"
   ]
  },
  {
   "cell_type": "markdown",
   "metadata": {},
   "source": [
    "Now we can create the Graph that represents the world clock.\n",
    "First create all the necessary Nodes."
   ]
  },
  {
   "cell_type": "code",
   "execution_count": 5,
   "metadata": {
    "collapsed": true
   },
   "outputs": [],
   "source": [
    "current_time = CurrentTime()\n",
    "van = ConvertTime(name='Vancouver', timezone=-8)\n",
    "ldn = ConvertTime(name='London', timezone=0)\n",
    "muc = ConvertTime(name='Munich', timezone=1)\n",
    "world_clock = WorldClock()"
   ]
  },
  {
   "cell_type": "markdown",
   "metadata": {},
   "source": [
    "Now, the Nodes can be wired together.\n",
    "The bitshift operator is used as a shorthand to connect the plugs."
   ]
  },
  {
   "cell_type": "code",
   "execution_count": 6,
   "metadata": {
    "collapsed": false
   },
   "outputs": [],
   "source": [
    "current_time.outputs['time'] >> van.inputs['time']\n",
    "current_time.outputs['time'] >> ldn.inputs['time']\n",
    "current_time.outputs['time'] >> muc.inputs['time']\n",
    "van.outputs['converted_time'] >> world_clock.inputs['time1']\n",
    "ldn.outputs['converted_time'] >> world_clock.inputs['time2']\n",
    "muc.outputs['converted_time'] >> world_clock.inputs['time3']"
   ]
  },
  {
   "cell_type": "markdown",
   "metadata": {},
   "source": [
    "The nodes are now grouped into a Graph, representing the world clock"
   ]
  },
  {
   "cell_type": "code",
   "execution_count": 7,
   "metadata": {
    "collapsed": true
   },
   "outputs": [],
   "source": [
    "graph = Graph(name=\"WorldClockGraph\", nodes=[current_time, van, ldn, muc, world_clock])"
   ]
  },
  {
   "cell_type": "markdown",
   "metadata": {},
   "source": [
    "The Graph can be visualized."
   ]
  },
  {
   "cell_type": "code",
   "execution_count": 8,
   "metadata": {
    "collapsed": false
   },
   "outputs": [
    {
     "name": "stdout",
     "output_type": "stream",
     "text": [
      "   0 | +-------------+          +----------------+          +------------+\n",
      "   1 | | CurrentTime |          |   Vancouver    |          | WorldClock |\n",
      "   2 | |-------------|          |----------------|          |------------|\n",
      "   3 | |        time o-->--+    o timezone       |     +--->o time1      |\n",
      "   4 | +-------------+     +--->o time           |     |--->o time2      |\n",
      "   5 |                     |    | converted_time o-->--+--->o time3      |\n",
      "   6 |                     |    +----------------+     |    +------------+\n",
      "   7 |                     |    +----------------+     |                  \n",
      "   8 |                     |    |     London     |     |                  \n",
      "   9 |                     |    |----------------|     |                  \n",
      "  10 |                     |    o timezone       |     |                  \n",
      "  11 |                     +--->o time           |     |                  \n",
      "  12 |                     |    | converted_time o-->--+                  \n",
      "  13 |                     |    +----------------+     |                  \n",
      "  14 |                     |    +----------------+     |                  \n",
      "  15 |                     |    |     Munich     |     |                  \n",
      "  16 |                     |    |----------------|     |                  \n",
      "  17 |                     |    o timezone       |     |                  \n",
      "  18 |                     +--->o time           |     |                  \n",
      "  19 |                          | converted_time o-->--+                  \n",
      "  20 |                          +----------------+                        \n"
     ]
    }
   ],
   "source": [
    "print(graph)"
   ]
  },
  {
   "cell_type": "markdown",
   "metadata": {},
   "source": [
    "The Graph is evaluated by an Engine. The PythonEngine will evaluate the Graph in the current python session."
   ]
  },
  {
   "cell_type": "code",
   "execution_count": 9,
   "metadata": {
    "collapsed": false
   },
   "outputs": [
    {
     "name": "stderr",
     "output_type": "stream",
     "text": [
      "flowpipe DEBUG: Computed: CurrentTime\n",
      "flowpipe DEBUG: Computed: Vancouver\n",
      "flowpipe DEBUG: Computed: London\n",
      "flowpipe DEBUG: Computed: Munich\n",
      "flowpipe DEBUG: Computed: WorldClock\n",
      "flowpipe DEBUG: Computed: WorldClockGraph\n"
     ]
    },
    {
     "name": "stdout",
     "output_type": "stream",
     "text": [
      "-- World Clock -------------------\n",
      "It is now 14:55 in Vancouver\n",
      "It is now 22:55 in London\n",
      "It is now 23:55 in Munich\n",
      "----------------------------------\n"
     ]
    }
   ],
   "source": [
    "engine = PythonEngine()\n",
    "engine.evaluate_entire_graph(graph)"
   ]
  }
 ],
 "metadata": {
  "kernelspec": {
   "display_name": "Python 2",
   "language": "python",
   "name": "python2"
  },
  "language_info": {
   "codemirror_mode": {
    "name": "ipython",
    "version": 2
   },
   "file_extension": ".py",
   "mimetype": "text/x-python",
   "name": "python",
   "nbconvert_exporter": "python",
   "pygments_lexer": "ipython2",
   "version": "2.7.13"
  }
 },
 "nbformat": 4,
 "nbformat_minor": 1
}
