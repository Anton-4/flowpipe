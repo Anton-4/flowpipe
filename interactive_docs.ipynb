{
  "metadata" : {
    "kernel_info": {
        # if kernel_info is defined, its name field is required.
        "name" : "the name of the kernel"
    },
    "language_info": {
        # if language_info is defined, its name field is required.
        "name" : "the programming language of the kernel",
        "version": "the version of the language",
        "codemirror_mode": "The name of the codemirror mode to use [optional]"
    }
  },
  "nbformat": 4,
  "nbformat_minor": 0,
  "cells" : [
    {
      "cell_type" : "markdown",
      "metadata" : {},
      "source" : "[multi-line *markdown*]",
    },
    {
      "cell_type" : "code",
      "execution_count": 1, # integer or null
      "metadata" : {
          "collapsed" : True, # whether the output of the cell is collapsed
          "autoscroll": False, # any of true, false or "auto"
      },
      "source" : "[some multi-line code]",
      "outputs": [{
          # list of output dicts (described below)
          "output_type": "stream",
          ...
      }],
    }
  ],
}
