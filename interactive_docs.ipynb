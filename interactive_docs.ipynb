{
  "metadata" : {
  },
  "nbformat": 4,
  "nbformat_minor": 0,
  "cells" : [
    {
      "cell_type" : "markdown",
      "metadata" : {},
      "source" : "[multi-line *markdown*]",
    },
    {
      "cell_type" : "code",
      "execution_count": 1, # integer or null
      "metadata" : {
          "collapsed" : True, # whether the output of the cell is collapsed
          "autoscroll": False, # any of true, false or "auto"
      },
      "source" : "[some multi-line code]",
      "outputs": [{
          # list of output dicts (described below)
          "output_type": "stream",
          ...
      }],
    }
  ],
}
